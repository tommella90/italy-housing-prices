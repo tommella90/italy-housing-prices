{
 "cells": [
  {
   "cell_type": "code",
   "execution_count": 1,
   "id": "75f90b2e",
   "metadata": {},
   "outputs": [],
   "source": [
    "import pandas as pd\n",
    "import numpy as np\n",
    "import json\n",
    "import matplotlib.pyplot as plt\n",
    "%matplotlib inline\n",
    "\n",
    "import geopandas as gpd\n",
    "import folium\n",
    "from pandasai import PandasAI\n",
    "\n",
    "import warnings\n",
    "warnings.filterwarnings('ignore')"
   ]
  },
  {
   "cell_type": "code",
   "execution_count": 2,
   "id": "d839c308",
   "metadata": {},
   "outputs": [
    {
     "data": {
      "text/html": [
       "<div>\n",
       "<style scoped>\n",
       "    .dataframe tbody tr th:only-of-type {\n",
       "        vertical-align: middle;\n",
       "    }\n",
       "\n",
       "    .dataframe tbody tr th {\n",
       "        vertical-align: top;\n",
       "    }\n",
       "\n",
       "    .dataframe thead th {\n",
       "        text-align: right;\n",
       "    }\n",
       "</style>\n",
       "<table border=\"1\" class=\"dataframe\">\n",
       "  <thead>\n",
       "    <tr style=\"text-align: right;\">\n",
       "      <th></th>\n",
       "      <th>prezzo</th>\n",
       "      <th>stanze</th>\n",
       "      <th>m2</th>\n",
       "      <th>bagni</th>\n",
       "      <th>piano</th>\n",
       "      <th>description</th>\n",
       "      <th>Riferimento e Data annuncio</th>\n",
       "      <th>contratto</th>\n",
       "      <th>tipologia</th>\n",
       "      <th>superficie</th>\n",
       "      <th>...</th>\n",
       "      <th>stato</th>\n",
       "      <th>riscaldamento</th>\n",
       "      <th>Climatizzatore</th>\n",
       "      <th>Efficienza energetica</th>\n",
       "      <th>Indice prest. energetica rinnovabile</th>\n",
       "      <th>Prestazione energetica del fabbricato</th>\n",
       "      <th>certificazione energetica</th>\n",
       "      <th>Emissioni di CO₂</th>\n",
       "      <th>spese aggiuntive</th>\n",
       "      <th>regione</th>\n",
       "    </tr>\n",
       "  </thead>\n",
       "  <tbody>\n",
       "    <tr>\n",
       "      <th>16560</th>\n",
       "      <td>1.800/mese</td>\n",
       "      <td>3</td>\n",
       "      <td>60m²</td>\n",
       "      <td>1</td>\n",
       "      <td>9°, con ascensore</td>\n",
       "      <td>Piazza San Camillo De Lellis, nella signorile ...</td>\n",
       "      <td>ADR9 - 07/03/2023</td>\n",
       "      <td>Affitto, libero</td>\n",
       "      <td>Appartamento | Intera proprietà | Immobile di ...</td>\n",
       "      <td>60 m² | commerciale 68 m² - Vedi dettaglio</td>\n",
       "      <td>...</td>\n",
       "      <td>Ottimo / Ristrutturato</td>\n",
       "      <td>Autonomo, a radiatori, alimentato a metano</td>\n",
       "      <td>Autonomo, freddo/caldo</td>\n",
       "      <td>E132.32 kWh/m² anno</td>\n",
       "      <td>None</td>\n",
       "      <td>invernale  estivo</td>\n",
       "      <td>None</td>\n",
       "      <td>None</td>\n",
       "      <td>None</td>\n",
       "      <td>None</td>\n",
       "    </tr>\n",
       "    <tr>\n",
       "      <th>16561</th>\n",
       "      <td>450/mese</td>\n",
       "      <td>2</td>\n",
       "      <td>55m²</td>\n",
       "      <td>1</td>\n",
       "      <td>5°, con ascensore</td>\n",
       "      <td>Zona SANTA RITA, precisamente su CORSO AGNELLI...</td>\n",
       "      <td>25481 - 07/03/2023</td>\n",
       "      <td>Affitto</td>\n",
       "      <td>Appartamento | Classe immobile media</td>\n",
       "      <td>55 m²</td>\n",
       "      <td>...</td>\n",
       "      <td>Ottimo / Ristrutturato</td>\n",
       "      <td>Autonomo, a radiatori, alimentato a teleriscal...</td>\n",
       "      <td>None</td>\n",
       "      <td>E≥ 175 kWh/m² anno</td>\n",
       "      <td>None</td>\n",
       "      <td>None</td>\n",
       "      <td>None</td>\n",
       "      <td>None</td>\n",
       "      <td>None</td>\n",
       "      <td>None</td>\n",
       "    </tr>\n",
       "    <tr>\n",
       "      <th>16562</th>\n",
       "      <td>3.200/mese</td>\n",
       "      <td>5+</td>\n",
       "      <td>400m²</td>\n",
       "      <td>3+</td>\n",
       "      <td>2°, con ascensore</td>\n",
       "      <td>Zona pedonale - Si propone in locazione import...</td>\n",
       "      <td>a.118 - 07/03/2023</td>\n",
       "      <td>Affitto</td>\n",
       "      <td>Appartamento | Intera proprietà | Classe immob...</td>\n",
       "      <td>400 m²</td>\n",
       "      <td>...</td>\n",
       "      <td>Ottimo / Ristrutturato</td>\n",
       "      <td>Autonomo, a radiatori</td>\n",
       "      <td>Autonomo, freddo/caldo</td>\n",
       "      <td>E127.6 kWh/m² anno</td>\n",
       "      <td>None</td>\n",
       "      <td>None</td>\n",
       "      <td>None</td>\n",
       "      <td>None</td>\n",
       "      <td>None</td>\n",
       "      <td>None</td>\n",
       "    </tr>\n",
       "  </tbody>\n",
       "</table>\n",
       "<p>3 rows × 38 columns</p>\n",
       "</div>"
      ],
      "text/plain": [
       "            prezzo stanze     m2 bagni              piano  \\\n",
       "16560   1.800/mese      3   60m²     1  9°, con ascensore   \n",
       "16561     450/mese      2   55m²     1  5°, con ascensore   \n",
       "16562   3.200/mese     5+  400m²    3+  2°, con ascensore   \n",
       "\n",
       "                                             description  \\\n",
       "16560  Piazza San Camillo De Lellis, nella signorile ...   \n",
       "16561  Zona SANTA RITA, precisamente su CORSO AGNELLI...   \n",
       "16562  Zona pedonale - Si propone in locazione import...   \n",
       "\n",
       "      Riferimento e Data annuncio        contratto  \\\n",
       "16560           ADR9 - 07/03/2023  Affitto, libero   \n",
       "16561          25481 - 07/03/2023          Affitto   \n",
       "16562          a.118 - 07/03/2023          Affitto   \n",
       "\n",
       "                                               tipologia  \\\n",
       "16560  Appartamento | Intera proprietà | Immobile di ...   \n",
       "16561               Appartamento | Classe immobile media   \n",
       "16562  Appartamento | Intera proprietà | Classe immob...   \n",
       "\n",
       "                                       superficie  ...  \\\n",
       "16560  60 m² | commerciale 68 m² - Vedi dettaglio  ...   \n",
       "16561                                       55 m²  ...   \n",
       "16562                                      400 m²  ...   \n",
       "\n",
       "                        stato  \\\n",
       "16560  Ottimo / Ristrutturato   \n",
       "16561  Ottimo / Ristrutturato   \n",
       "16562  Ottimo / Ristrutturato   \n",
       "\n",
       "                                           riscaldamento  \\\n",
       "16560         Autonomo, a radiatori, alimentato a metano   \n",
       "16561  Autonomo, a radiatori, alimentato a teleriscal...   \n",
       "16562                              Autonomo, a radiatori   \n",
       "\n",
       "               Climatizzatore Efficienza energetica  \\\n",
       "16560  Autonomo, freddo/caldo   E132.32 kWh/m² anno   \n",
       "16561                    None    E≥ 175 kWh/m² anno   \n",
       "16562  Autonomo, freddo/caldo    E127.6 kWh/m² anno   \n",
       "\n",
       "      Indice prest. energetica rinnovabile  \\\n",
       "16560                                 None   \n",
       "16561                                 None   \n",
       "16562                                 None   \n",
       "\n",
       "      Prestazione energetica del fabbricato certificazione energetica  \\\n",
       "16560                    invernale  estivo                       None   \n",
       "16561                                  None                      None   \n",
       "16562                                  None                      None   \n",
       "\n",
       "      Emissioni di CO₂ spese aggiuntive regione  \n",
       "16560             None             None    None  \n",
       "16561             None             None    None  \n",
       "16562             None             None    None  \n",
       "\n",
       "[3 rows x 38 columns]"
      ]
     },
     "execution_count": 2,
     "metadata": {},
     "output_type": "execute_result"
    }
   ],
   "source": [
    "df = pd.read_parquet(\"dataframes/italy_housing_price_rent_raw.parquet.gzip\")\n",
    "df.head(3)"
   ]
  },
  {
   "cell_type": "code",
   "execution_count": 3,
   "id": "4ba31f19",
   "metadata": {},
   "outputs": [],
   "source": [
    "# PRICE\n",
    "df['prezzo'] = df['prezzo'].str.replace('€', '')\n",
    "df['prezzo'] = df['prezzo'].str.replace(r'[^0-9]+', '')\n",
    "df['prezzo'][df['prezzo'] == ''] = np.nan\n",
    "df['prezzo'] = df['prezzo'].astype(float)"
   ]
  },
  {
   "cell_type": "code",
   "execution_count": 4,
   "id": "c3a43640",
   "metadata": {},
   "outputs": [],
   "source": [
    "# GEOGRAPHIC INGO\n",
    "df['regione'] = df['regione'].str.title()\n",
    "df['citta'] = df['citta'].str.title()"
   ]
  },
  {
   "cell_type": "code",
   "execution_count": 5,
   "metadata": {
    "collapsed": false
   },
   "outputs": [],
   "source": [
    "# DATETIME INFO\n",
    "from datetime import date\n",
    "df = df.rename(columns={'Riferimento e Data annuncio': \"data\"})\n",
    "date_regex = r'(\\d{2}/\\d{2}/\\d{4})'\n",
    "df['datetime'] = df['data'].str.extract(date_regex)\n",
    "df['datetime'] = pd.to_datetime(df['datetime'])\n",
    "\n",
    "today = np.datetime64(date.today())\n",
    "df = df.loc[(df['datetime'] > '2023-01-01') & (df['datetime'] < today)]"
   ]
  },
  {
   "cell_type": "code",
   "execution_count": 6,
   "id": "e64e9890",
   "metadata": {},
   "outputs": [],
   "source": [
    "df = df.dropna(subset=['regione', 'citta', 'prezzo'])"
   ]
  },
  {
   "cell_type": "code",
   "execution_count": 7,
   "metadata": {
    "collapsed": false
   },
   "outputs": [
    {
     "data": {
      "text/plain": [
       "<AxesSubplot:>"
      ]
     },
     "execution_count": 7,
     "metadata": {},
     "output_type": "execute_result"
    },
    {
     "data": {
      "image/png": "[encoded data removed]",
      "text/plain": [
       "<Figure size 640x480 with 1 Axes>"
      ]
     },
     "metadata": {},
     "output_type": "display_data"
    }
   ],
   "source": [
    "## CHECK OUTLIERS\n",
    "df.boxplot(column=['prezzo'])"
   ]
  },
  {
   "cell_type": "code",
   "execution_count": 8,
   "metadata": {
    "collapsed": false
   },
   "outputs": [],
   "source": [
    "df = df.loc[df['prezzo'] < 5000]"
   ]
  },
  {
   "cell_type": "markdown",
   "id": "db4d6f55",
   "metadata": {},
   "source": [
    "## DISPLAY PRICES BY REGION "
   ]
  },
  {
   "cell_type": "code",
   "execution_count": 9,
   "id": "094a51ff",
   "metadata": {},
   "outputs": [
    {
     "data": {
      "text/plain": [
       "Text(0, 0.5, 'Region')"
      ]
     },
     "execution_count": 9,
     "metadata": {},
     "output_type": "execute_result"
    },
    {
     "data": {
      "image/png": "[encoded data removed]",
      "text/plain": [
       "<Figure size 640x480 with 1 Axes>"
      ]
     },
     "metadata": {},
     "output_type": "display_data"
    }
   ],
   "source": [
    "prices_by_region = df['prezzo'].groupby(df['regione']).mean().sort_values(ascending=True)\n",
    "\n",
    "fig1, ax = plt.subplots()\n",
    "ax.barh(prices_by_region.index, prices_by_region, )\n",
    "ax.set_title(\"ITALIAN RENTS:\\n Price by region\")\n",
    "ax.set_xlabel(\"Euros\")\n",
    "ax.set_ylabel(\"Region\")"
   ]
  },
  {
   "cell_type": "code",
   "execution_count": 10,
   "metadata": {
    "collapsed": false
   },
   "outputs": [],
   "source": [
    "df_price = pd.DataFrame(prices_by_region)\n",
    "df_price = df_price.reset_index()\n",
    "df_price.columns = ['reg_name', 'prezzo']"
   ]
  },
  {
   "cell_type": "code",
   "execution_count": 11,
   "metadata": {
    "collapsed": false
   },
   "outputs": [
    {
     "ename": "DriverError",
     "evalue": "data/limits_IT_regions.geojson: No such file or directory",
     "output_type": "error",
     "traceback": [
      "\u001b[1;31m---------------------------------------------------------------------------\u001b[0m",
      "\u001b[1;31mCPLE_OpenFailedError\u001b[0m                      Traceback (most recent call last)",
      "File \u001b[1;32mfiona\\ogrext.pyx:136\u001b[0m, in \u001b[0;36mfiona.ogrext.gdal_open_vector\u001b[1;34m()\u001b[0m\n",
      "File \u001b[1;32mfiona\\_err.pyx:291\u001b[0m, in \u001b[0;36mfiona._err.exc_wrap_pointer\u001b[1;34m()\u001b[0m\n",
      "\u001b[1;31mCPLE_OpenFailedError\u001b[0m: data/limits_IT_regions.geojson: No such file or directory",
      "\nDuring handling of the above exception, another exception occurred:\n",
      "\u001b[1;31mDriverError\u001b[0m                               Traceback (most recent call last)",
      "Cell \u001b[1;32mIn[11], line 2\u001b[0m\n\u001b[0;32m      1\u001b[0m italy \u001b[38;5;241m=\u001b[39m \u001b[38;5;124m\"\u001b[39m\u001b[38;5;124mdata/limits_IT_regions.geojson\u001b[39m\u001b[38;5;124m\"\u001b[39m\n\u001b[1;32m----> 2\u001b[0m geo_data \u001b[38;5;241m=\u001b[39m \u001b[43mgpd\u001b[49m\u001b[38;5;241;43m.\u001b[39;49m\u001b[43mread_file\u001b[49m\u001b[43m(\u001b[49m\u001b[43mitaly\u001b[49m\u001b[43m)\u001b[49m\n\u001b[0;32m      3\u001b[0m geo_data_region \u001b[38;5;241m=\u001b[39m geo_data\u001b[38;5;241m.\u001b[39mmerge(df_price, on \u001b[38;5;241m=\u001b[39m \u001b[38;5;124m'\u001b[39m\u001b[38;5;124mreg_name\u001b[39m\u001b[38;5;124m'\u001b[39m)\n\u001b[0;32m      4\u001b[0m geo_data_region[\u001b[38;5;124m'\u001b[39m\u001b[38;5;124mprezzo\u001b[39m\u001b[38;5;124m'\u001b[39m] \u001b[38;5;241m=\u001b[39m \u001b[38;5;28mround\u001b[39m(geo_data_region[\u001b[38;5;124m'\u001b[39m\u001b[38;5;124mprezzo\u001b[39m\u001b[38;5;124m'\u001b[39m]\u001b[38;5;241m.\u001b[39mastype(\u001b[38;5;28mfloat\u001b[39m), \u001b[38;5;241m2\u001b[39m)\n",
      "File \u001b[1;32m~\\anaconda3\\envs\\ds\\lib\\site-packages\\geopandas\\io\\file.py:259\u001b[0m, in \u001b[0;36m_read_file\u001b[1;34m(filename, bbox, mask, rows, engine, **kwargs)\u001b[0m\n\u001b[0;32m    256\u001b[0m     path_or_bytes \u001b[38;5;241m=\u001b[39m filename\n\u001b[0;32m    258\u001b[0m \u001b[38;5;28;01mif\u001b[39;00m engine \u001b[38;5;241m==\u001b[39m \u001b[38;5;124m\"\u001b[39m\u001b[38;5;124mfiona\u001b[39m\u001b[38;5;124m\"\u001b[39m:\n\u001b[1;32m--> 259\u001b[0m     \u001b[38;5;28;01mreturn\u001b[39;00m _read_file_fiona(\n\u001b[0;32m    260\u001b[0m         path_or_bytes, from_bytes, bbox\u001b[38;5;241m=\u001b[39mbbox, mask\u001b[38;5;241m=\u001b[39mmask, rows\u001b[38;5;241m=\u001b[39mrows, \u001b[38;5;241m*\u001b[39m\u001b[38;5;241m*\u001b[39mkwargs\n\u001b[0;32m    261\u001b[0m     )\n\u001b[0;32m    262\u001b[0m \u001b[38;5;28;01melif\u001b[39;00m engine \u001b[38;5;241m==\u001b[39m \u001b[38;5;124m\"\u001b[39m\u001b[38;5;124mpyogrio\u001b[39m\u001b[38;5;124m\"\u001b[39m:\n\u001b[0;32m    263\u001b[0m     \u001b[38;5;28;01mreturn\u001b[39;00m _read_file_pyogrio(\n\u001b[0;32m    264\u001b[0m         path_or_bytes, bbox\u001b[38;5;241m=\u001b[39mbbox, mask\u001b[38;5;241m=\u001b[39mmask, rows\u001b[38;5;241m=\u001b[39mrows, \u001b[38;5;241m*\u001b[39m\u001b[38;5;241m*\u001b[39mkwargs\n\u001b[0;32m    265\u001b[0m     )\n",
      "File \u001b[1;32m~\\anaconda3\\envs\\ds\\lib\\site-packages\\geopandas\\io\\file.py:303\u001b[0m, in \u001b[0;36m_read_file_fiona\u001b[1;34m(path_or_bytes, from_bytes, bbox, mask, rows, where, **kwargs)\u001b[0m\n\u001b[0;32m    300\u001b[0m     reader \u001b[38;5;241m=\u001b[39m fiona\u001b[38;5;241m.\u001b[39mopen\n\u001b[0;32m    302\u001b[0m \u001b[38;5;28;01mwith\u001b[39;00m fiona_env():\n\u001b[1;32m--> 303\u001b[0m     \u001b[38;5;28;01mwith\u001b[39;00m reader(path_or_bytes, \u001b[38;5;241m*\u001b[39m\u001b[38;5;241m*\u001b[39mkwargs) \u001b[38;5;28;01mas\u001b[39;00m features:\n\u001b[0;32m    304\u001b[0m         crs \u001b[38;5;241m=\u001b[39m features\u001b[38;5;241m.\u001b[39mcrs_wkt\n\u001b[0;32m    305\u001b[0m         \u001b[38;5;66;03m# attempt to get EPSG code\u001b[39;00m\n",
      "File \u001b[1;32m~\\anaconda3\\envs\\ds\\lib\\site-packages\\fiona\\env.py:457\u001b[0m, in \u001b[0;36mensure_env_with_credentials.<locals>.wrapper\u001b[1;34m(*args, **kwds)\u001b[0m\n\u001b[0;32m    454\u001b[0m     session \u001b[38;5;241m=\u001b[39m DummySession()\n\u001b[0;32m    456\u001b[0m \u001b[38;5;28;01mwith\u001b[39;00m env_ctor(session\u001b[38;5;241m=\u001b[39msession):\n\u001b[1;32m--> 457\u001b[0m     \u001b[38;5;28;01mreturn\u001b[39;00m f(\u001b[38;5;241m*\u001b[39margs, \u001b[38;5;241m*\u001b[39m\u001b[38;5;241m*\u001b[39mkwds)\n",
      "File \u001b[1;32m~\\anaconda3\\envs\\ds\\lib\\site-packages\\fiona\\__init__.py:352\u001b[0m, in \u001b[0;36mopen\u001b[1;34m(fp, mode, driver, schema, crs, encoding, layer, vfs, enabled_drivers, crs_wkt, allow_unsupported_drivers, **kwargs)\u001b[0m\n\u001b[0;32m    349\u001b[0m     path \u001b[38;5;241m=\u001b[39m parse_path(fp)\n\u001b[0;32m    351\u001b[0m \u001b[38;5;28;01mif\u001b[39;00m mode \u001b[38;5;129;01min\u001b[39;00m (\u001b[38;5;124m\"\u001b[39m\u001b[38;5;124ma\u001b[39m\u001b[38;5;124m\"\u001b[39m, \u001b[38;5;124m\"\u001b[39m\u001b[38;5;124mr\u001b[39m\u001b[38;5;124m\"\u001b[39m):\n\u001b[1;32m--> 352\u001b[0m     colxn \u001b[38;5;241m=\u001b[39m Collection(\n\u001b[0;32m    353\u001b[0m         path,\n\u001b[0;32m    354\u001b[0m         mode,\n\u001b[0;32m    355\u001b[0m         driver\u001b[38;5;241m=\u001b[39mdriver,\n\u001b[0;32m    356\u001b[0m         encoding\u001b[38;5;241m=\u001b[39mencoding,\n\u001b[0;32m    357\u001b[0m         layer\u001b[38;5;241m=\u001b[39mlayer,\n\u001b[0;32m    358\u001b[0m         enabled_drivers\u001b[38;5;241m=\u001b[39menabled_drivers,\n\u001b[0;32m    359\u001b[0m         allow_unsupported_drivers\u001b[38;5;241m=\u001b[39mallow_unsupported_drivers,\n\u001b[0;32m    360\u001b[0m         \u001b[38;5;241m*\u001b[39m\u001b[38;5;241m*\u001b[39mkwargs\n\u001b[0;32m    361\u001b[0m     )\n\u001b[0;32m    362\u001b[0m \u001b[38;5;28;01melif\u001b[39;00m mode \u001b[38;5;241m==\u001b[39m \u001b[38;5;124m\"\u001b[39m\u001b[38;5;124mw\u001b[39m\u001b[38;5;124m\"\u001b[39m:\n\u001b[0;32m    363\u001b[0m     colxn \u001b[38;5;241m=\u001b[39m Collection(\n\u001b[0;32m    364\u001b[0m         path,\n\u001b[0;32m    365\u001b[0m         mode,\n\u001b[1;32m   (...)\u001b[0m\n\u001b[0;32m    374\u001b[0m         \u001b[38;5;241m*\u001b[39m\u001b[38;5;241m*\u001b[39mkwargs\n\u001b[0;32m    375\u001b[0m     )\n",
      "File \u001b[1;32m~\\anaconda3\\envs\\ds\\lib\\site-packages\\fiona\\collection.py:234\u001b[0m, in \u001b[0;36mCollection.__init__\u001b[1;34m(self, path, mode, driver, schema, crs, encoding, layer, vsi, archive, enabled_drivers, crs_wkt, ignore_fields, ignore_geometry, include_fields, wkt_version, allow_unsupported_drivers, **kwargs)\u001b[0m\n\u001b[0;32m    232\u001b[0m \u001b[38;5;28;01mif\u001b[39;00m \u001b[38;5;28mself\u001b[39m\u001b[38;5;241m.\u001b[39mmode \u001b[38;5;241m==\u001b[39m \u001b[38;5;124m\"\u001b[39m\u001b[38;5;124mr\u001b[39m\u001b[38;5;124m\"\u001b[39m:\n\u001b[0;32m    233\u001b[0m     \u001b[38;5;28mself\u001b[39m\u001b[38;5;241m.\u001b[39msession \u001b[38;5;241m=\u001b[39m Session()\n\u001b[1;32m--> 234\u001b[0m     \u001b[38;5;28mself\u001b[39m\u001b[38;5;241m.\u001b[39msession\u001b[38;5;241m.\u001b[39mstart(\u001b[38;5;28mself\u001b[39m, \u001b[38;5;241m*\u001b[39m\u001b[38;5;241m*\u001b[39mkwargs)\n\u001b[0;32m    235\u001b[0m \u001b[38;5;28;01melif\u001b[39;00m \u001b[38;5;28mself\u001b[39m\u001b[38;5;241m.\u001b[39mmode \u001b[38;5;129;01min\u001b[39;00m (\u001b[38;5;124m\"\u001b[39m\u001b[38;5;124ma\u001b[39m\u001b[38;5;124m\"\u001b[39m, \u001b[38;5;124m\"\u001b[39m\u001b[38;5;124mw\u001b[39m\u001b[38;5;124m\"\u001b[39m):\n\u001b[0;32m    236\u001b[0m     \u001b[38;5;28mself\u001b[39m\u001b[38;5;241m.\u001b[39msession \u001b[38;5;241m=\u001b[39m WritingSession()\n",
      "File \u001b[1;32mfiona\\ogrext.pyx:587\u001b[0m, in \u001b[0;36mfiona.ogrext.Session.start\u001b[1;34m()\u001b[0m\n",
      "File \u001b[1;32mfiona\\ogrext.pyx:143\u001b[0m, in \u001b[0;36mfiona.ogrext.gdal_open_vector\u001b[1;34m()\u001b[0m\n",
      "\u001b[1;31mDriverError\u001b[0m: data/limits_IT_regions.geojson: No such file or directory"
     ]
    }
   ],
   "source": [
    "italy = \"data/limits_IT_regions.geojson\"\n",
    "geo_data = gpd.read_file(italy)\n",
    "geo_data_region = geo_data.merge(df_price, on = 'reg_name')\n",
    "geo_data_region['prezzo'] = round(geo_data_region['prezzo'].astype(float), 2)\n",
    "geo_data_region"
   ]
  },
  {
   "cell_type": "code",
   "execution_count": null,
   "metadata": {
    "collapsed": false
   },
   "outputs": [],
   "source": [
    "map = folium.Map(location=[41.8719, 12.5674], zoom_start=5)\n",
    "\n",
    "folium.Choropleth(\n",
    "    geo_data=geo_data_region,\n",
    "    data=geo_data_region,\n",
    "    columns=['reg_name', 'prezzo'],\n",
    "    key_on='feature.properties.reg_name',\n",
    "    fill_color='YlGn',\n",
    "    fill_opacity=0.7,\n",
    "    line_opacity=0.2,\n",
    "    legend_name='Your Choropleth Title'\n",
    ").add_to(map)\n",
    "\n",
    "\n",
    "highlights = folium.features.GeoJson(\n",
    "    geo_data_region,\n",
    "    style_function= lambda x:\n",
    "    {\"color\": \"red\",\n",
    "     #\"fillColor\":\"YlOrBr\",\n",
    "     \"weight\":1,\n",
    "     \"fillOpacity\":0,\n",
    "     },\n",
    "    highlight_function = lambda x: {\n",
    "        'fillColor': '#000000',\n",
    "        'color': '#000000',\n",
    "        'fillOpacity': 0.50,\n",
    "        'weight': 0.5\n",
    "    },\n",
    "    tooltip=folium.features.GeoJsonTooltip(\n",
    "        fields=['reg_name' , 'prezzo'],\n",
    "        aliases = [ 'REGION:' , 'Mean price in euro:' ],\n",
    "        labels = True,\n",
    "        sticky = False)\n",
    ")\n",
    "\n",
    "map.add_child(highlights)\n",
    "map.keep_in_front(highlights)\n",
    "folium.LayerControl().add_to(map)\n",
    "\n",
    "#map"
   ]
  },
  {
   "cell_type": "markdown",
   "id": "2ba2a22c",
   "metadata": {},
   "source": [
    "## PRICE BY CITY"
   ]
  },
  {
   "cell_type": "code",
   "execution_count": null,
   "id": "ff4cb1d2",
   "metadata": {},
   "outputs": [],
   "source": [
    "EXTREME_CASES = 10\n",
    "\n",
    "price_by_city_mean = df['prezzo'].groupby(df['citta']).mean()\n",
    "price_by_city = price_by_city_mean.sort_values(ascending=True)\n",
    "price_by_city_extremes = pd.concat(\n",
    "    [price_by_city.head(EXTREME_CASES),\n",
    "     price_by_city.tail(EXTREME_CASES)],\n",
    "    axis=0)"
   ]
  },
  {
   "cell_type": "code",
   "execution_count": null,
   "id": "423c32a5",
   "metadata": {},
   "outputs": [],
   "source": [
    "fig1, ax = plt.subplots()\n",
    "ax.barh(price_by_city_extremes.index, price_by_city_extremes)\n",
    "ax.set_title(\"ITALIAN RENTS:\\n Price by city\")\n",
    "ax.set_xlabel(\"Euros\")\n",
    "ax.set_ylabel(\"City\")"
   ]
  },
  {
   "cell_type": "code",
   "execution_count": null,
   "id": "6a0cf776",
   "metadata": {},
   "outputs": [],
   "source": [
    "df_price = pd.DataFrame(price_by_city)\n",
    "df_price = df_price.reset_index()\n",
    "df_price.columns = ['name', 'prezzo']\n",
    "df_price['prezzo'] = round(df_price['prezzo'].astype(float), 2)\n",
    "df_price.loc[df_price['prezzo'] > 5000, 'prezzo'] = 5000"
   ]
  },
  {
   "cell_type": "code",
   "execution_count": null,
   "metadata": {
    "collapsed": false
   },
   "outputs": [],
   "source": [
    "italy = \"data/limits_IT_municipalities.geojson\"\n",
    "geo_data = gpd.read_file(italy)\n",
    "geodata_city = geo_data.merge(df_price, on='name')\n",
    "geodata_city = geodata_city[['name', 'prezzo', 'geometry']]\n",
    "geodata_city.head(3)"
   ]
  },
  {
   "cell_type": "code",
   "execution_count": null,
   "id": "abd0bd31",
   "metadata": {},
   "outputs": [],
   "source": [
    "map = folium.Map(location=[41.8719, 12.5674], zoom_start=4.8)\n",
    "\n",
    "folium.Choropleth(\n",
    "    geo_data=geodata_city,\n",
    "    data=geodata_city,\n",
    "    columns=['name', 'prezzo'],\n",
    "    key_on='feature.properties.name',\n",
    "    fill_color='YlGn',\n",
    "    fill_opacity=0.7,\n",
    "    line_opacity=0.2,\n",
    "    legend_name='Price by municipality'\n",
    ").add_to(map)\n",
    "\n",
    "highlights = folium.features.GeoJson(\n",
    "    geodata_city,\n",
    "    style_function= lambda x:\n",
    "    {#\"color\": \"red\",\n",
    "     #\"fillColor\":\"YlOrBr\",\n",
    "     \"weight\":0,\n",
    "     \"fillOpacity\":0,\n",
    "     },\n",
    "    highlight_function = lambda x: {\n",
    "        'fillColor': '#000000',\n",
    "        'color': '#000000',\n",
    "        'fillOpacity': 0.50,\n",
    "        'weight': 0.5\n",
    "    },\n",
    "    tooltip=folium.features.GeoJsonTooltip(\n",
    "        fields=['name' , 'prezzo'],\n",
    "        aliases = [ 'REGION:' , 'Mean price in euro:' ],\n",
    "        labels = True,\n",
    "        sticky = False)\n",
    ")\n",
    "\n",
    "map.add_child(highlights)\n",
    "map.keep_in_front(highlights)\n",
    "folium.LayerControl().add_to(map)\n",
    "\n",
    "#map"
   ]
  },
  {
   "cell_type": "markdown",
   "metadata": {
    "collapsed": false
   },
   "source": [
    "## TIME SERIES ANALYSIS"
   ]
  },
  {
   "cell_type": "code",
   "execution_count": null,
   "id": "a271995a",
   "metadata": {},
   "outputs": [],
   "source": [
    "# DATE TIME\n",
    "df = df.rename(columns={'Riferimento e Data annuncio': \"data\"})\n",
    "date_regex = r'(\\d{2}/\\d{2}/\\d{4})'\n",
    "df['datetime'] = df['data'].str.extract(date_regex)\n",
    "df['datetime'] = pd.to_datetime(df['datetime'])\n"
   ]
  },
  {
   "cell_type": "code",
   "execution_count": null,
   "id": "703117e6",
   "metadata": {},
   "outputs": [],
   "source": [
    "## PRICE BY DATE\n",
    "df['prezzo'].groupby(df['datetime']).mean().plot()"
   ]
  },
  {
   "cell_type": "code",
   "execution_count": null,
   "metadata": {
    "collapsed": false
   },
   "outputs": [],
   "source": [
    "# PRICE BY DATE AND REGION\n",
    "north = ['Lombardia', 'Veneto', 'Piemonte', 'Valle-D-Aosta', 'Trentino-Alto-Adige', 'Friuli-venezia giulia']\n",
    "center = ['Liguria', 'Toscana', 'Lazio', 'Marche', 'Umbria', 'Emilia-Romagna', 'Molise']\n",
    "south = ['Campania', 'Puglia', 'Sicilia', 'Calabria', 'Basilicata', 'Abruzzo', 'Sardegna']"
   ]
  },
  {
   "cell_type": "code",
   "execution_count": null,
   "metadata": {
    "collapsed": false
   },
   "outputs": [],
   "source": [
    "def plot_prices(area):\n",
    "    df_area = df[df['regione'].isin(area)]\n",
    "    df_area['prezzo'] = df_area['prezzo'].fillna(method='ffill')\n",
    "    price_area = df_area['prezzo'].groupby([df_area['datetime'], df_area['regione']]).mean().unstack()\n",
    "\n",
    "    price_area.plot(\n",
    "        figsize=(15, 10),\n",
    "        title='Price by date and region',\n",
    "        xlabel='Date',\n",
    "        ylabel='Price',\n",
    "        grid=True,\n",
    "        legend=True,\n",
    "        #colormap='tab20'\n",
    "    )"
   ]
  },
  {
   "cell_type": "code",
   "execution_count": null,
   "metadata": {
    "collapsed": false
   },
   "outputs": [],
   "source": [
    "# line plot\n",
    "plot_prices(north)"
   ]
  },
  {
   "cell_type": "code",
   "execution_count": null,
   "metadata": {
    "collapsed": false
   },
   "outputs": [],
   "source": [
    "plot_prices(center)"
   ]
  },
  {
   "cell_type": "code",
   "execution_count": null,
   "id": "aff5c0e2",
   "metadata": {},
   "outputs": [],
   "source": [
    "plot_prices(south)"
   ]
  },
  {
   "cell_type": "code",
   "execution_count": null,
   "metadata": {
    "collapsed": false
   },
   "outputs": [],
   "source": []
  },
  {
   "cell_type": "code",
   "execution_count": null,
   "metadata": {
    "collapsed": false
   },
   "outputs": [],
   "source": [
    "## ALTRE CARATTERISTICHE FREQUENCY\n",
    "DF = pd.read_parquet(\"dataframes/italy_housing_price_rent_raw.parquet.gzip\")\n",
    "\n",
    "def flatten(l):\n",
    "    return [item for sublist in l for item in sublist]\n",
    "\n",
    "c = X['altre caratteristiche'].to_list()\n",
    "c = flatten(c)\n",
    "\n",
    "freq = {}\n",
    "counting = [freq.update({x: c.count(x)}) for x in c]\n"
   ]
  }
 ],
 "metadata": {
  "kernelspec": {
   "display_name": "Python 3 (ipykernel)",
   "language": "python",
   "name": "python3"
  },
  "language_info": {
   "codemirror_mode": {
    "name": "ipython",
    "version": 3
   },
   "file_extension": ".py",
   "mimetype": "text/x-python",
   "name": "python",
   "nbconvert_exporter": "python",
   "pygments_lexer": "ipython3",
   "version": "3.10.4"
  },
  "varInspector": {
   "cols": {
    "lenName": 16,
    "lenType": 16,
    "lenVar": 40
   },
   "kernels_config": {
    "python": {
     "delete_cmd_postfix": "",
     "delete_cmd_prefix": "del ",
     "library": "var_list.py",
     "varRefreshCmd": "print(var_dic_list())"
    },
    "r": {
     "delete_cmd_postfix": ") ",
     "delete_cmd_prefix": "rm(",
     "library": "var_list.r",
     "varRefreshCmd": "cat(var_dic_list()) "
    }
   },
   "types_to_exclude": [
    "module",
    "function",
    "builtin_function_or_method",
    "instance",
    "_Feature"
   ],
   "window_display": false
  }
 },
 "nbformat": 4,
 "nbformat_minor": 5
}
