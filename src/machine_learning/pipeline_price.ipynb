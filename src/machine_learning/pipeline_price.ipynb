{
 "cells": [
  {
   "cell_type": "code",
   "execution_count": 1,
   "metadata": {},
   "outputs": [],
   "source": [
    "import pandas as pd\n",
    "import numpy as np\n",
    "from sklearn.base import BaseEstimator, TransformerMixin\n",
    "from sklearn.model_selection import train_test_split\n",
    "from sklearn.impute import SimpleImputer\n",
    "from sklearn.preprocessing import StandardScaler, LabelEncoder\n",
    "from sklearn.pipeline import FeatureUnion, Pipeline\n",
    "from sklearn.linear_model import LinearRegression\n",
    "from sklearn.ensemble import GradientBoostingRegressor, RandomForestRegressor\n",
    "from sklearn.metrics import mean_absolute_error, mean_squared_error, r2_score"
   ]
  },
  {
   "cell_type": "code",
   "execution_count": 2,
   "metadata": {},
   "outputs": [
    {
     "ename": "NameError",
     "evalue": "name 'LabelCleaner' is not defined",
     "output_type": "error",
     "traceback": [
      "\u001B[1;31m---------------------------------------------------------------------------\u001B[0m",
      "\u001B[1;31mNameError\u001B[0m                                 Traceback (most recent call last)",
      "Cell \u001B[1;32mIn[2], line 8\u001B[0m\n\u001B[0;32m      5\u001B[0m df \u001B[38;5;241m=\u001B[39m pd\u001B[38;5;241m.\u001B[39mread_parquet(\u001B[38;5;124m\"\u001B[39m\u001B[38;5;124mdataframes/italy_housing_price_rent_raw.parquet.gzip\u001B[39m\u001B[38;5;124m\"\u001B[39m)\n\u001B[0;32m      7\u001B[0m \u001B[38;5;66;03m# Clean the target variable\u001B[39;00m\n\u001B[1;32m----> 8\u001B[0m target_cleaner \u001B[38;5;241m=\u001B[39m \u001B[43mLabelCleaner\u001B[49m(df[\u001B[38;5;124m'\u001B[39m\u001B[38;5;124mprezzo\u001B[39m\u001B[38;5;124m'\u001B[39m])\n\u001B[0;32m      9\u001B[0m df[\u001B[38;5;124m'\u001B[39m\u001B[38;5;124mprezzo\u001B[39m\u001B[38;5;124m'\u001B[39m] \u001B[38;5;241m=\u001B[39m target_cleaner\u001B[38;5;241m.\u001B[39mclean_target()\n\u001B[0;32m     11\u001B[0m \u001B[38;5;66;03m# Remove rows with missing target values\u001B[39;00m\n",
      "\u001B[1;31mNameError\u001B[0m: name 'LabelCleaner' is not defined"
     ]
    }
   ],
   "source": [
    "import pandas as pd\n",
    "from sklearn.model_selection import train_test_split\n",
    "\n",
    "# Read the parquet file\n",
    "df = pd.read_parquet(\"dataframes/italy_housing_price_rent_raw.parquet.gzip\")\n",
    "\n",
    "# Clean the target variable\n",
    "target_cleaner = LabelCleaner(df['prezzo'])\n",
    "df['prezzo'] = target_cleaner.clean_target()\n",
    "\n",
    "# Remove rows with missing target values\n",
    "df = df.dropna(subset=['prezzo'])\n"
   ]
  },
  {
   "cell_type": "code",
   "execution_count": 45,
   "metadata": {},
   "outputs": [],
   "source": [
    "numerical_columns = ['superficie']\n",
    "label = ['prezzo']\n",
    "\n",
    "label_transformer = Pipeline(steps=[\n",
    "    ('label_selector', ColumnsSelector(label)),\n",
    "    ('label_transformer', LabelTransformer())\n",
    "])\n"
   ]
  },
  {
   "cell_type": "code",
   "execution_count": 46,
   "metadata": {},
   "outputs": [],
   "source": [
    "numeric_transformer = Pipeline(steps=[\n",
    "    ('num_selector', ColumnsSelector(numerical_columns)),\n",
    "    ('num_transformer', NumericalTransformer()),\n",
    "    ('imputer', SimpleImputer(strategy='median')),\n",
    "    ('scaler', StandardScaler())\n",
    "])\n"
   ]
  },
  {
   "cell_type": "code",
   "execution_count": 47,
   "metadata": {},
   "outputs": [],
   "source": [
    "categorical_columns = ['stanze', 'bagni', 'Posti Auto']\n",
    "\n",
    "categorical_transformer = Pipeline(steps=[\n",
    "    ('cat_selector', ColumnsSelector(categorical_columns)),\n",
    "    ('cat_transformer', CategoricalTransformer()),\n",
    "    ('imputer', SimpleImputer(strategy='most_frequent'))\n",
    "])\n"
   ]
  },
  {
   "cell_type": "markdown",
   "metadata": {},
   "source": []
  },
  {
   "cell_type": "code",
   "execution_count": 48,
   "metadata": {},
   "outputs": [],
   "source": [
    "feature_pipeline = FeatureUnion( transformer_list = [\n",
    "    ('numerical_pipeline', numeric_transformer ),\n",
    "    ('categorical_pipeline', categorical_transformer ) ] )\n"
   ]
  },
  {
   "cell_type": "code",
   "execution_count": 49,
   "metadata": {},
   "outputs": [],
   "source": [
    "lr = LinearRegression()\n",
    "rf = RandomForestRegressor()\n",
    "xgb = GradientBoostingRegressor()\n",
    "\n",
    "models = {\n",
    "    'Linear regression': lr,\n",
    "    'Random forest': rf,\n",
    "    'XGBoost': xgb\n",
    "          }\n",
    "\n",
    "full_pipeline = Pipeline(steps=[\n",
    "    ('feature_pipeline', feature_pipeline),\n",
    "    ('model', LinearRegression() )\n",
    "])\n"
   ]
  },
  {
   "cell_type": "code",
   "execution_count": 50,
   "metadata": {},
   "outputs": [],
   "source": [
    "full_pipeline.fit(X_train, y_train)\n",
    "train_pred = full_pipeline.predict(X_train)"
   ]
  },
  {
   "cell_type": "code",
   "execution_count": 50,
   "metadata": {},
   "outputs": [],
   "source": []
  },
  {
   "cell_type": "code",
   "execution_count": 51,
   "metadata": {},
   "outputs": [
    {
     "name": "stdout",
     "output_type": "stream",
     "text": [
      "**************************************************\n",
      "Linear regression Training score:\n",
      "MAE: 1994.0082 | RMSE: 26382.808 | R2: 0.001\n",
      "**************************************************\n",
      "Random forest Training score:\n",
      "MAE: 1994.0082 | RMSE: 26382.808 | R2: 0.001\n",
      "**************************************************\n",
      "XGBoost Training score:\n",
      "MAE: 1994.0082 | RMSE: 26382.808 | R2: 0.001\n"
     ]
    }
   ],
   "source": [
    "for name, model in models.items():\n",
    "\n",
    "    full_pipeline = Pipeline(steps=[\n",
    "        ('feature_pipeline', feature_pipeline),\n",
    "        ('model', LinearRegression() )\n",
    "    ])\n",
    "\n",
    "    # model fitting\n",
    "    full_pipeline.fit(X_train, y_train)\n",
    "\n",
    "    # model scoring\n",
    "    train_pred = full_pipeline.predict(X_train)\n",
    "\n",
    "    # Evaluate model performance\n",
    "    print('*' * 50)\n",
    "    print(f'{name} Training score:')\n",
    "    print(f'MAE: {round(mean_absolute_error(y_train, train_pred),4)} | RMSE: {round(mean_squared_error(y_train, train_pred, squared=False),4)} | R2: {round(r2_score(y_train, train_pred),4)}')"
   ]
  }
 ],
 "metadata": {
  "kernelspec": {
   "display_name": "Python 3 (ipykernel)",
   "language": "python",
   "name": "python3"
  },
  "language_info": {
   "codemirror_mode": {
    "name": "ipython",
    "version": 3
   },
   "file_extension": ".py",
   "mimetype": "text/x-python",
   "name": "python",
   "nbconvert_exporter": "python",
   "pygments_lexer": "ipython3",
   "version": "3.10.4"
  },
  "varInspector": {
   "cols": {
    "lenName": 16,
    "lenType": 16,
    "lenVar": 40
   },
   "kernels_config": {
    "python": {
     "delete_cmd_postfix": "",
     "delete_cmd_prefix": "del ",
     "library": "var_list.py",
     "varRefreshCmd": "print(var_dic_list())"
    },
    "r": {
     "delete_cmd_postfix": ") ",
     "delete_cmd_prefix": "rm(",
     "library": "var_list.r",
     "varRefreshCmd": "cat(var_dic_list()) "
    }
   },
   "types_to_exclude": [
    "module",
    "function",
    "builtin_function_or_method",
    "instance",
    "_Feature"
   ],
   "window_display": false
  }
 },
 "nbformat": 4,
 "nbformat_minor": 1
}
